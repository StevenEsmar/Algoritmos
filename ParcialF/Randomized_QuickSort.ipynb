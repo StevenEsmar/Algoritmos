{
 "cells": [
  {
   "cell_type": "markdown",
   "metadata": {},
   "source": [
    "# QuickSort Algorithm"
   ]
  },
  {
   "cell_type": "code",
   "execution_count": 74,
   "metadata": {
    "collapsed": true
   },
   "outputs": [],
   "source": [
    "from random import randint\n",
    "from time import time\n",
    "import matplotlib.pyplot as plt"
   ]
  },
  {
   "cell_type": "code",
   "execution_count": 75,
   "metadata": {
    "collapsed": true
   },
   "outputs": [],
   "source": [
    "def randomQuickSort(alist,first,last):\n",
    "    steps = 0\n",
    "    if first<last:\n",
    "        pivIndex,steps = randomPartition(alist,first,last)\n",
    "        steps = steps + randomQuickSort(alist,first,pivIndex-1)\n",
    "        steps = steps + randomQuickSort(alist,pivIndex+1,last)\n",
    "    return steps"
   ]
  },
  {
   "cell_type": "code",
   "execution_count": 76,
   "metadata": {
    "collapsed": true
   },
   "outputs": [],
   "source": [
    "def randomPartition(alist,first,last):\n",
    "    steps = 0\n",
    "\n",
    "    indxpiv = randint(first,last)\n",
    "    temp = alist[indxpiv]\n",
    "    alist[indxpiv] = alist[first]\n",
    "    alist[first] = temp\n",
    "   \n",
    "    pivotvalue = alist[first]\n",
    "    steps = 0\n",
    "\n",
    "    leftmark = first+1\n",
    "    rightmark = last\n",
    " \n",
    "    done = False\n",
    " \n",
    "    steps = steps + 9       #Counting\n",
    " \n",
    "    while not done:\n",
    "\n",
    "        while leftmark <= rightmark and alist[leftmark] <= pivotvalue:\n",
    "            leftmark = leftmark + 1\n",
    "            steps = steps + 1\n",
    "        steps = steps + 1   #While Last comparition\n",
    "\n",
    "        while alist[rightmark] >= pivotvalue and rightmark >= leftmark:\n",
    "            rightmark = rightmark -1\n",
    "            steps = steps + 1\n",
    "        steps = steps + 1   #While Last comparition\n",
    "\n",
    "        if rightmark < leftmark:\n",
    "           done = True\n",
    "           steps = steps + 1\n",
    "        else:\n",
    "           temp = alist[leftmark]\n",
    "           alist[leftmark] = alist[rightmark]\n",
    "           alist[rightmark] = temp\n",
    "           steps = steps + 3\n",
    "        steps = steps + 1\n",
    "\n",
    "    temp = alist[first]\n",
    "    alist[first] = alist[rightmark]\n",
    "    alist[rightmark] = temp\n",
    "    steps = steps + 3 + 1     #Last one is for last while comparition\n",
    "\n",
    "    return rightmark,steps"
   ]
  },
  {
   "cell_type": "code",
   "execution_count": 77,
   "metadata": {
    "collapsed": true
   },
   "outputs": [],
   "source": [
    "def graphic(results):\n",
    "    plt.ylabel('Index')\n",
    "    plt.xlabel('Steps')\n",
    "    plt.title('Distribution Plot')\n",
    "    plt.bar(range(len(results)), results)\n",
    "    plt.show()"
   ]
  },
  {
   "cell_type": "code",
   "execution_count": 78,
   "metadata": {
    "collapsed": true
   },
   "outputs": [],
   "source": [
    "def distribution(result):\n",
    "    ys_pos = range(len(result.keys()))\n",
    "    plt.ylabel('Amount')\n",
    "    plt.xlabel('Steps')\n",
    "    plt.title('Steps Distribution')\n",
    "    plt.bar(ys_pos, result.values())\n",
    "    plt.show()\n",
    "        "
   ]
  },
  {
   "cell_type": "code",
   "execution_count": 79,
   "metadata": {
    "collapsed": true
   },
   "outputs": [],
   "source": [
    "def runQuickSort(A,n,results):\n",
    "    start = time()\n",
    "    for i in xrange(n):\n",
    "        rta = randomQuickSort(A,0,len(A)-1)\n",
    "        if rta in results:\n",
    "            results[rta]=results[rta]+1\n",
    "        else:\n",
    "            results[rta]=1\n",
    "        \n",
    "        #results.append(randomQuickSort(A,0,len(A)-1))\n",
    "    end = time()\n",
    "    \n",
    "    suma = 0\n",
    "    for key in results:\n",
    "        suma += key*results[key]\n",
    "    average = suma/n\n",
    "    \n",
    "    print \"N= {}\\tTime= {:.4f} Seconds -> {:.4f} Hours\".format(n,end-start,(end-start)/3600)\n",
    "    print \"Min Steps= {}\\t Max Steps= {}\".format(min(results),max(results))\n",
    "    print \"Average steps= {:.4f}\".format(average)\n",
    "    #graphic(results)\n",
    "    distribution(results)"
   ]
  },
  {
   "cell_type": "code",
   "execution_count": 80,
   "metadata": {
    "collapsed": true
   },
   "outputs": [],
   "source": [
    "def runQuickSortinTime(A,results,duration):\n",
    "    start = time()\n",
    "    end = start\n",
    "    n = 0\n",
    "    while end-start<duration:\n",
    "        rta = randomQuickSort(A,0,len(A)-1)\n",
    "        if rta in results:\n",
    "            results[rta]=results[rta]+1\n",
    "        else:\n",
    "            results[rta]=1\n",
    "        n+=1\n",
    "        #results.append(randomQuickSort(A,0,len(A)-1))\n",
    "        end = time()\n",
    "        \n",
    "    suma = 0\n",
    "    for key in results:\n",
    "        suma += key*results[key]\n",
    "    average = suma/n\n",
    "    \n",
    "    print \"N= {}\\tTime= {:.4f} Seconds -> {:.4f} Hours\".format(n,end-start,(end-start)/3600)\n",
    "    print \"Min Steps= {}\\t Max Steps= {}\".format(min(results),max(results))\n",
    "    print \"Average steps= {:.4f}\".format(average)\n",
    "    #graphic(results)\n",
    "    distribution(results)"
   ]
  },
  {
   "cell_type": "code",
   "execution_count": 81,
   "metadata": {
    "collapsed": false
   },
   "outputs": [
    {
     "name": "stdout",
     "output_type": "stream",
     "text": [
      "\n",
      "El arreglo a usar es: [5, 6, 7, 8, 1, 2, 3, 4, 14, 15, 16, 9, 10, 11, 12, 13]\n",
      "N= 10000000\tTime= 475.1460 Seconds -> 0.1320 Hours\n",
      "Min Steps= 174\t Max Steps= 343\n",
      "Average steps= 226.0000\n"
     ]
    },
    {
     "data": {
      "image/png": "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\n",
      "text/plain": [
       "<Figure size 432x288 with 1 Axes>"
      ]
     },
     "metadata": {},
     "output_type": "display_data"
    }
   ],
   "source": [
    "N = 10000000\n",
    "ResultsA = {}\n",
    "A = range(5,9)+range(1,5)+range(14,17)+range(9,14)\n",
    "print \"\\nEl arreglo a usar es:\", A\n",
    "runQuickSort(A,N,ResultsA)"
   ]
  },
  {
   "cell_type": "markdown",
   "metadata": {},
   "source": [
    "Para ordenar 10000000 de veces el mismo arreglo, se tardo 475 segundos (8 minutos) en hacerlo. El minimo numero de pasos para realizar un ordenamiento, fue de 174, y el mayor fue de 343, una diferencia de 169 pasos."
   ]
  },
  {
   "cell_type": "code",
   "execution_count": 13,
   "metadata": {
    "collapsed": false
   },
   "outputs": [
    {
     "name": "stdout",
     "output_type": "stream",
     "text": [
      "Tiempo de ejecucion promedio para cada ordenamiento: 4.75146e-05 segundos\n"
     ]
    }
   ],
   "source": [
    "print \"Tiempo de ejecucion promedio para cada ordenamiento: {} segundos\".format(475.1460/10000000)"
   ]
  },
  {
   "cell_type": "markdown",
   "metadata": {},
   "source": [
    "Mediante regla de 3 se calcula cuantas ejecuciones se harian en 18000 segundos o 5 horas."
   ]
  },
  {
   "cell_type": "code",
   "execution_count": 14,
   "metadata": {
    "collapsed": false,
    "scrolled": true
   },
   "outputs": [
    {
     "name": "stdout",
     "output_type": "stream",
     "text": [
      "Estimado: 378830927.757\n"
     ]
    }
   ],
   "source": [
    "estimado = ( 18000.0 * 10000000.0 ) / 475.1460\n",
    "print \"Estimado: {}\".format(estimado)"
   ]
  },
  {
   "cell_type": "markdown",
   "metadata": {},
   "source": [
    "Como cantidad estimada se obtiene un numero cercano a los 4 mil millones. Luego corro el quicksort por 5 horas:"
   ]
  },
  {
   "cell_type": "code",
   "execution_count": 83,
   "metadata": {
    "collapsed": false,
    "scrolled": false
   },
   "outputs": [
    {
     "name": "stdout",
     "output_type": "stream",
     "text": [
      "\n",
      "El arreglo a usar es: [5, 6, 7, 8, 1, 2, 3, 4, 14, 15, 16, 9, 10, 11, 12, 13]\n",
      "N= 338833508\tTime= 18000.0000 Seconds -> 5.0000 Hours\n",
      "Min Steps= 174\t Max Steps= 375\n",
      "Average steps= 226.0000\n"
     ]
    },
    {
     ""
    }
   ],
   "source": [
    ""
   ]
  },
  {
   "cell_type": "markdown",
   "metadata": {},
   "source": [
    "En 5 horas la cantidad de veces que realiza el quicksort esta dentro de las cifras de 3 mil millones. La diferencia con el valor predicho es:"
   ]
  },
  {
   "cell_type": "code",
   "execution_count": 15,
   "metadata": {
    "collapsed": false
   },
   "outputs": [
    {
     "name": "stdout",
     "output_type": "stream",
     "text": [
      "Diferencia: 39997419.7569 -> 0.11 %\n"
     ]
    }
   ],
   "source": [
    "print \"Diferencia: {} -> {:.2f} %\".format(abs(338833508-estimado),abs(338833508-estimado)/estimado)"
   ]
  },
  {
   "cell_type": "markdown",
   "metadata": {},
   "source": [
    "La diferencia entre la cantidad obtenida del experimento y la predicha, varia 0.11%."
   ]
  },
  {
   "cell_type": "markdown",
   "metadata": {},
   "source": [
    "En las Graficas se aprecia la distribucion de los pasos necesarios para resolverlo, las etiquetas de los valores no estan dentro de las graficas debido a que existe una gran cantidad, por lo que quedarian muy solapadas entre si haciendose menos entendible la grafica."
   ]
  },
  {
   "cell_type": "code",
   "execution_count": null,
   "metadata": {
    "collapsed": true
   },
   "outputs": [],
   "source": []
  }
 ],
 "metadata": {
  "kernelspec": {
   "display_name": "Python 2",
   "language": "python",
   "name": "python2"
  },
  "language_info": {
   "codemirror_mode": {
    "name": "ipython",
    "version": 2
   },
   "file_extension": ".py",
   "mimetype": "text/x-python",
   "name": "python",
   "nbconvert_exporter": "python",
   "pygments_lexer": "ipython2",
   "version": "2.7.12"
  }
 },
 "nbformat": 4,
 "nbformat_minor": 2
}
