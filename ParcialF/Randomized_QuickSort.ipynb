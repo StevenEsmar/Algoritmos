{
 "cells": [
  {
   "cell_type": "markdown",
   "metadata": {},
   "source": [
    "# QuickSort Algorithm"
   ]
  },
  {
   "cell_type": "code",
   "execution_count": 74,
   "metadata": {
    "collapsed": true
   },
   "outputs": [],
   "source": [
    "from random import randint\n",
    "from time import time\n",
    "import matplotlib.pyplot as plt"
   ]
  },
  {
   "cell_type": "code",
   "execution_count": 75,
   "metadata": {
    "collapsed": true
   },
   "outputs": [],
   "source": [
    "def randomQuickSort(alist,first,last):\n",
    "    steps = 0\n",
    "    if first<last:\n",
    "        pivIndex,steps = randomPartition(alist,first,last)\n",
    "        steps = steps + randomQuickSort(alist,first,pivIndex-1)\n",
    "        steps = steps + randomQuickSort(alist,pivIndex+1,last)\n",
    "    return steps"
   ]
  },
  {
   "cell_type": "code",
   "execution_count": 76,
   "metadata": {
    "collapsed": true
   },
   "outputs": [],
   "source": [
    "def randomPartition(alist,first,last):\n",
    "    steps = 0\n",
    "\n",
    "    indxpiv = randint(first,last)\n",
    "    temp = alist[indxpiv]\n",
    "    alist[indxpiv] = alist[first]\n",
    "    alist[first] = temp\n",
    "   \n",
    "    pivotvalue = alist[first]\n",
    "    steps = 0\n",
    "\n",
    "    leftmark = first+1\n",
    "    rightmark = last\n",
    " \n",
    "    done = False\n",
    " \n",
    "    steps = steps + 9       #Counting\n",
    " \n",
    "    while not done:\n",
    "\n",
    "        while leftmark <= rightmark and alist[leftmark] <= pivotvalue:\n",
    "            leftmark = leftmark + 1\n",
    "            steps = steps + 1\n",
    "        steps = steps + 1   #While Last comparition\n",
    "\n",
    "        while alist[rightmark] >= pivotvalue and rightmark >= leftmark:\n",
    "            rightmark = rightmark -1\n",
    "            steps = steps + 1\n",
    "        steps = steps + 1   #While Last comparition\n",
    "\n",
    "        if rightmark < leftmark:\n",
    "           done = True\n",
    "           steps = steps + 1\n",
    "        else:\n",
    "           temp = alist[leftmark]\n",
    "           alist[leftmark] = alist[rightmark]\n",
    "           alist[rightmark] = temp\n",
    "           steps = steps + 3\n",
    "        steps = steps + 1\n",
    "\n",
    "    temp = alist[first]\n",
    "    alist[first] = alist[rightmark]\n",
    "    alist[rightmark] = temp\n",
    "    steps = steps + 3 + 1     #Last one is for last while comparition\n",
    "\n",
    "    return rightmark,steps"
   ]
  },
  {
   "cell_type": "code",
   "execution_count": 77,
   "metadata": {
    "collapsed": true
   },
   "outputs": [],
   "source": [
    "def graphic(results):\n",
    "    plt.ylabel('Index')\n",
    "    plt.xlabel('Steps')\n",
    "    plt.title('Distribution Plot')\n",
    "    plt.bar(range(len(results)), results)\n",
    "    plt.show()"
   ]
  },
  {
   "cell_type": "code",
   "execution_count": 78,
   "metadata": {
    "collapsed": true
   },
   "outputs": [],
   "source": [
    "def distribution(result):\n",
    "    ys_pos = range(len(result.keys()))\n",
    "    plt.ylabel('Amount')\n",
    "    plt.xlabel('Steps')\n",
    "    plt.title('Steps Distribution')\n",
    "    plt.bar(ys_pos, result.values())\n",
    "    plt.show()\n",
    "        "
   ]
  },
  {
   "cell_type": "code",
   "execution_count": 79,
   "metadata": {
    "collapsed": true
   },
   "outputs": [],
   "source": [
    "def runQuickSort(A,n,results):\n",
    "    start = time()\n",
    "    for i in xrange(n):\n",
    "        rta = randomQuickSort(A,0,len(A)-1)\n",
    "        if rta in results:\n",
    "            results[rta]=results[rta]+1\n",
    "        else:\n",
    "            results[rta]=1\n",
    "        \n",
    "        #results.append(randomQuickSort(A,0,len(A)-1))\n",
    "    end = time()\n",
    "    \n",
    "    suma = 0\n",
    "    for key in results:\n",
    "        suma += key*results[key]\n",
    "    average = suma/n\n",
    "    \n",
    "    print \"N= {}\\tTime= {:.4f} Seconds -> {:.4f} Hours\".format(n,end-start,(end-start)/3600)\n",
    "    print \"Min Steps= {}\\t Max Steps= {}\".format(min(results),max(results))\n",
    "    print \"Average steps= {:.4f}\".format(average)\n",
    "    #graphic(results)\n",
    "    distribution(results)"
   ]
  },
  {
   "cell_type": "code",
   "execution_count": 80,
   "metadata": {
    "collapsed": true
   },
   "outputs": [],
   "source": [
    "def runQuickSortinTime(A,results,duration):\n",
    "    start = time()\n",
    "    end = start\n",
    "    n = 0\n",
    "    while end-start<duration:\n",
    "        rta = randomQuickSort(A,0,len(A)-1)\n",
    "        if rta in results:\n",
    "            results[rta]=results[rta]+1\n",
    "        else:\n",
    "            results[rta]=1\n",
    "        n+=1\n",
    "        #results.append(randomQuickSort(A,0,len(A)-1))\n",
    "        end = time()\n",
    "        \n",
    "    suma = 0\n",
    "    for key in results:\n",
    "        suma += key*results[key]\n",
    "    average = suma/n\n",
    "    \n",
    "    print \"N= {}\\tTime= {:.4f} Seconds -> {:.4f} Hours\".format(n,end-start,(end-start)/3600)\n",
    "    print \"Min Steps= {}\\t Max Steps= {}\".format(min(results),max(results))\n",
    "    print \"Average steps= {:.4f}\".format(average)\n",
    "    #graphic(results)\n",
    "    distribution(results)"
   ]
  },
  {
   "cell_type": "code",
   "execution_count": 81,
   "metadata": {
    "collapsed": false
   },
   "outputs": [
    {
     "name": "stdout",
     "output_type": "stream",
     "text": [
      "\n",
      "El arreglo a usar es: [5, 6, 7, 8, 1, 2, 3, 4, 14, 15, 16, 9, 10, 11, 12, 13]\n",
      "N= 10000000\tTime= 475.1460 Seconds -> 0.1320 Hours\n",
      "Min Steps= 174\t Max Steps= 343\n",
      "Average steps= 226.0000\n"
     ]
    },
    {
     "data": {
      "image/png": "[encoded data removed]",
      "text/plain": [
       "<Figure size 432x288 with 1 Axes>"
      ]
     },
     "metadata": {},
     "output_type": "display_data"
    }
   ],
   "source": [
    "N = 10000000\n",
    "ResultsA = {}\n",
    "A = range(5,9)+range(1,5)+range(14,17)+range(9,14)\n",
    "print \"\\nEl arreglo a usar es:\", A\n",
    "runQuickSort(A,N,ResultsA)"
   ]
  },
  {
   "cell_type": "markdown",
   "metadata": {},
   "source": [
    "Para ordenar 10000000 de veces el mismo arreglo, se tardo 475 segundos (8 minutos) en hacerlo. El minimo numero de pasos para realizar un ordenamiento, fue de 174, y el mayor fue de 343, una diferencia de 169 pasos."
   ]
  },
  {
   "cell_type": "code",
   "execution_count": 13,
   "metadata": {
    "collapsed": false
   },
   "outputs": [
    {
     "name": "stdout",
     "output_type": "stream",
     "text": [
      "Tiempo de ejecucion promedio para cada ordenamiento: 4.75146e-05 segundos\n"
     ]
    }
   ],
   "source": [
    "print \"Tiempo de ejecucion promedio para cada ordenamiento: {} segundos\".format(475.1460/10000000)"
   ]
  },
  {
   "cell_type": "markdown",
   "metadata": {},
   "source": [
    "Mediante regla de 3 se calcula cuantas ejecuciones se harian en 18000 segundos o 5 horas."
   ]
  },
  {
   "cell_type": "code",
   "execution_count": 14,
   "metadata": {
    "collapsed": false,
    "scrolled": true
   },
   "outputs": [
    {
     "name": "stdout",
     "output_type": "stream",
     "text": [
      "Estimado: 378830927.757\n"
     ]
    }
   ],
   "source": [
    "estimado = ( 18000.0 * 10000000.0 ) / 475.1460\n",
    "print \"Estimado: {}\".format(estimado)"
   ]
  },
  {
   "cell_type": "markdown",
   "metadata": {},
   "source": [
    "Como cantidad estimada se obtiene un numero cercano a los 4 mil millones. Luego corro el quicksort por 5 horas:"
   ]
  },
  {
   "cell_type": "code",
   "execution_count": 83,
   "metadata": {
    "collapsed": false,
    "scrolled": false
   },
   "outputs": [
    {
     "name": "stdout",
     "output_type": "stream",
     "text": [
      "\n",
      "El arreglo a usar es: [5, 6, 7, 8, 1, 2, 3, 4, 14, 15, 16, 9, 10, 11, 12, 13]\n",
      "N= 338833508\tTime= 18000.0000 Seconds -> 5.0000 Hours\n",
      "Min Steps= 174\t Max Steps= 375\n",
      "Average steps= 226.0000\n"
     ]
    },
    {
     "data": {
      "image/png": "[encoded data removed]",
      "text/plain": [
       "<Figure size 432x288 with 1 Axes>"
      ]
     },
     "metadata": {},
     "output_type": "display_data"
    }
   ],
   "source": [
    ""
   ]
  },
  {
   "cell_type": "markdown",
   "metadata": {},
   "source": [
    "En 5 horas la cantidad de veces que realiza el quicksort esta dentro de las cifras de 3 mil millones. La diferencia con el valor predicho es:"
   ]
  },
  {
   "cell_type": "code",
   "execution_count": 15,
   "metadata": {
    "collapsed": false
   },
   "outputs": [
    {
     "name": "stdout",
     "output_type": "stream",
     "text": [
      "Diferencia: 39997419.7569 -> 0.11 %\n"
     ]
    }
   ],
   "source": [
    "print \"Diferencia: {} -> {:.2f} %\".format(abs(338833508-estimado),abs(338833508-estimado)/estimado)"
   ]
  },
  {
   "cell_type": "markdown",
   "metadata": {},
   "source": [
    "La diferencia entre la cantidad obtenida del experimento y la predicha, varia 0.11%."
   ]
  },
  {
   "cell_type": "markdown",
   "metadata": {},
   "source": [
    "En las Graficas se aprecia la distribucion de los pasos necesarios para resolverlo, las etiquetas de los valores no estan dentro de las graficas debido a que existe una gran cantidad, por lo que quedarian muy solapadas entre si haciendose menos entendible la grafica."
   ]
  },
  {
   "cell_type": "code",
   "execution_count": null,
   "metadata": {
    "collapsed": true
   },
   "outputs": [],
   "source": []
  }
 ],
 "metadata": {
  "kernelspec": {
   "display_name": "Python 2",
   "language": "python",
   "name": "python2"
  },
  "language_info": {
   "codemirror_mode": {
    "name": "ipython",
    "version": 2
   },
   "file_extension": ".py",
   "mimetype": "text/x-python",
   "name": "python",
   "nbconvert_exporter": "python",
   "pygments_lexer": "ipython2",
   "version": "2.7.12"
  }
 },
 "nbformat": 4,
 "nbformat_minor": 2
}
