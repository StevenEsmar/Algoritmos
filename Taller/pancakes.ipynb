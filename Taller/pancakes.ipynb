{
 "cells": [
  {
   "cell_type": "markdown",
   "metadata": {},
   "source": [
    "# Pancake Flipper Program Code"
   ]
  },
  {
   "cell_type": "markdown",
   "metadata": {},
   "source": [
    "Se crea un arreglo global que guardara la respuesta u orden correcto de los pancakes."
   ]
  },
  {
   "cell_type": "code",
   "execution_count": 39,
   "metadata": {},
   "outputs": [],
   "source": [
    "import itertools\n",
    "\n",
    "original = []"
   ]
  },
  {
   "cell_type": "markdown",
   "metadata": {},
   "source": [
    "El programa inicia donde recibe los pancakes, saca todas las permutaciones, y una por una buscal el valor Pn, y los pasos para organizar la permutacion. La variable condition permite imprimir los valores deseados dependiendo del valor que tome. El programa trabaja con los arreglos donde la configuracion correcta es de Mayor->Menor. Ej: [4,3,2,1], pero los pasos y respuestas mostradas seran para el arreglo [1,2,3,4]"
   ]
  },
  {
   "cell_type": "code",
   "execution_count": 40,
   "metadata": {},
   "outputs": [],
   "source": [
    "def start(pancakes,condition):\n",
    "    answer = []\n",
    "    Pn = 0\n",
    "    for e in itertools.permutations(pancakes):\n",
    "        rta = flips(list(e))\n",
    "        Pn = max(Pn,rta[0])\n",
    "        answer.append([''.join(map(str,list(reversed(e)))),rta[0],''.join(map(str,rta[1]))])\n",
    "    \n",
    "    if condition == 0:\n",
    "        print \"Pn = {}\".format(Pn)\n",
    "    elif condition == 1:\n",
    "        print \"Pn = {}\".format(Pn)\n",
    "        for e in answer:\n",
    "            if e[1]==Pn:\n",
    "                print e[0],e[2]\n",
    "    elif condition == 2:\n",
    "        print \"Pn = {}\".format(Pn)\n",
    "        for e in answer:\n",
    "            print e[0],e[2]\n",
    "    else:\n",
    "        for e in answer:\n",
    "            print e[0],e[1],e[2]"
   ]
  },
  {
   "cell_type": "markdown",
   "metadata": {},
   "source": [
    "La funcion flips() lo que hacer es recibir una permutacion y realizarle los flips de cualquier forma posible, se compara si alguno de estos da la respuesta correcta, y si no se baja un nivel. Si es la primera vez que se entra, se realizan todos los flips posibles, y cada resultado se guarda en un arreglo junto al paso que se realizo para llegar a esa respuesta. \n",
    "\n",
    "Si la respuesta no esta, a cada respuesta se le realizan todos los flips posibles a excepcion del ultimo que se uso para llegar a esa respuesta especifica, todo este nuevo set de respuestas se revisa si contiene la respuesta correcta, si no, se vuelve a repetir este proceso hasta dar con la respuesta."
   ]
  },
  {
   "cell_type": "code",
   "execution_count": 41,
   "metadata": {},
   "outputs": [],
   "source": [
    "def flips(pancakes):\n",
    "    level = []\n",
    "    steps = 0\n",
    "    if pancakes == original:\n",
    "        return [steps,[\" \"]]\n",
    "    while True:\n",
    "        steps+=1\n",
    "        level_old = level[:]\n",
    "        level = []\n",
    "        if steps <= 1:\n",
    "            for i in xrange(len(pancakes)-1):\n",
    "                pan = pancakes[:i]+list(reversed(pancakes[i:]))\n",
    "                level.append([pan,[i]])\n",
    "                if pan == original:\n",
    "                    return [steps,[i]]\n",
    "        else:\n",
    "            for e in level_old:\n",
    "\n",
    "                for i in xrange(len(e[0])-1):\n",
    "                    if e[1][-1]!=i:\n",
    "                        pan = e[0][:i]+list(reversed(e[0][i:]))\n",
    "                        level.append([pan,e[1]+[i]])\n",
    "                        if pan == original:\n",
    "                            return [steps,e[1]+[i]]"
   ]
  },
  {
   "cell_type": "markdown",
   "metadata": {},
   "source": [
    "Las respuestas varian dependiendo del parametro c:  \n",
    "* c=0, solo muestra Pn <br/>\n",
    "* c=1, muestra Pn, las permutaciones que necesitan Pn pasos, y los pasos realizados <br/>\n",
    "* c=2, muestra Pn, todas las permutaciones, y los pasos de todas ellas <br/>\n",
    "* c igual a cualquier otra cosa, muestra cada permutacion con los pasos que necesita y el numero de pasos."
   ]
  },
  {
   "cell_type": "markdown",
   "metadata": {},
   "source": [
    "**Los resultados para cuando solo hay dos Pancakes son:**"
   ]
  },
  {
   "cell_type": "code",
   "execution_count": 42,
   "metadata": {},
   "outputs": [
    {
     "name": "stdout",
     "output_type": "stream",
     "text": [
      "Pn = 1\n"
     ]
    }
   ],
   "source": [
    "N = 2\n",
    "c = 0\n",
    "original = range(N,0,-1)\n",
    "start(original,c)"
   ]
  },
  {
   "cell_type": "code",
   "execution_count": 43,
   "metadata": {},
   "outputs": [
    {
     "name": "stdout",
     "output_type": "stream",
     "text": [
      "Pn = 1\n",
      "21 0\n"
     ]
    }
   ],
   "source": [
    "N = 2\n",
    "c = 1\n",
    "original = range(N,0,-1)\n",
    "start(original,c)"
   ]
  },
  {
   "cell_type": "code",
   "execution_count": 44,
   "metadata": {},
   "outputs": [
    {
     "name": "stdout",
     "output_type": "stream",
     "text": [
      "Pn = 1\n",
      "12  \n",
      "21 0\n"
     ]
    }
   ],
   "source": [
    "N = 2\n",
    "c = 2\n",
    "original = range(N,0,-1)\n",
    "start(original,c)"
   ]
  },
  {
   "cell_type": "code",
   "execution_count": 45,
   "metadata": {},
   "outputs": [
    {
     "name": "stdout",
     "output_type": "stream",
     "text": [
      "12 0  \n",
      "21 1 0\n"
     ]
    }
   ],
   "source": [
    "N = 2\n",
    "c = 3\n",
    "original = range(N,0,-1)\n",
    "start(original,c)"
   ]
  },
  {
   "cell_type": "markdown",
   "metadata": {},
   "source": [
    "**Los resultados para cuando hay tres Pancakes son:**"
   ]
  },
  {
   "cell_type": "code",
   "execution_count": 46,
   "metadata": {},
   "outputs": [
    {
     "name": "stdout",
     "output_type": "stream",
     "text": [
      "Pn = 3\n"
     ]
    }
   ],
   "source": [
    "N = 3\n",
    "c = 0\n",
    "original = range(N,0,-1)\n",
    "start(original,c)"
   ]
  },
  {
   "cell_type": "code",
   "execution_count": 47,
   "metadata": {},
   "outputs": [
    {
     "name": "stdout",
     "output_type": "stream",
     "text": [
      "Pn = 3\n",
      "132 010\n"
     ]
    }
   ],
   "source": [
    "N = 3\n",
    "c = 1\n",
    "original = range(N,0,-1)\n",
    "start(original,c)"
   ]
  },
  {
   "cell_type": "code",
   "execution_count": 48,
   "metadata": {},
   "outputs": [
    {
     "name": "stdout",
     "output_type": "stream",
     "text": [
      "Pn = 3\n",
      "123  \n",
      "213 1\n",
      "132 010\n",
      "312 01\n",
      "231 10\n",
      "321 0\n"
     ]
    }
   ],
   "source": [
    "N = 3\n",
    "c = 2\n",
    "original = range(N,0,-1)\n",
    "start(original,c)"
   ]
  },
  {
   "cell_type": "code",
   "execution_count": 49,
   "metadata": {},
   "outputs": [
    {
     "name": "stdout",
     "output_type": "stream",
     "text": [
      "123 0  \n",
      "213 1 1\n",
      "132 3 010\n",
      "312 2 01\n",
      "231 2 10\n",
      "321 1 0\n"
     ]
    }
   ],
   "source": [
    "N = 3\n",
    "c = 3\n",
    "original = range(N,0,-1)\n",
    "start(original,c)"
   ]
  },
  {
   "cell_type": "markdown",
   "metadata": {},
   "source": [
    "**Los resultados para cuando hay cuatro Pancakes son:**"
   ]
  },
  {
   "cell_type": "code",
   "execution_count": 50,
   "metadata": {},
   "outputs": [
    {
     "name": "stdout",
     "output_type": "stream",
     "text": [
      "Pn = 4\n"
     ]
    }
   ],
   "source": [
    "N = 4\n",
    "c = 0\n",
    "original = range(N,0,-1)\n",
    "start(original,c)"
   ]
  },
  {
   "cell_type": "code",
   "execution_count": 51,
   "metadata": {},
   "outputs": [
    {
     "name": "stdout",
     "output_type": "stream",
     "text": [
      "Pn = 4\n",
      "2413 1201\n",
      "3142 1021\n",
      "4231 0121\n"
     ]
    }
   ],
   "source": [
    "N = 4\n",
    "c = 1\n",
    "original = range(N,0,-1)\n",
    "start(original,c)"
   ]
  },
  {
   "cell_type": "code",
   "execution_count": 52,
   "metadata": {},
   "outputs": [
    {
     "name": "stdout",
     "output_type": "stream",
     "text": [
      "Pn = 4\n",
      "1234  \n",
      "2134 2\n",
      "1324 121\n",
      "3124 12\n",
      "2314 21\n",
      "3214 1\n",
      "1243 020\n",
      "2143 101\n",
      "1423 201\n",
      "4123 01\n",
      "2413 1201\n",
      "4213 012\n",
      "1342 102\n",
      "3142 1021\n",
      "1432 010\n",
      "4132 021\n",
      "3412 202\n",
      "4312 02\n",
      "2341 10\n",
      "3241 210\n",
      "2431 120\n",
      "4231 0121\n",
      "3421 20\n",
      "4321 0\n"
     ]
    }
   ],
   "source": [
    "N = 4\n",
    "c = 2\n",
    "original = range(N,0,-1)\n",
    "start(original,c)"
   ]
  },
  {
   "cell_type": "code",
   "execution_count": 53,
   "metadata": {},
   "outputs": [
    {
     "name": "stdout",
     "output_type": "stream",
     "text": [
      "1234 0  \n",
      "2134 1 2\n",
      "1324 3 121\n",
      "3124 2 12\n",
      "2314 2 21\n",
      "3214 1 1\n",
      "1243 3 020\n",
      "2143 3 101\n",
      "1423 3 201\n",
      "4123 2 01\n",
      "2413 4 1201\n",
      "4213 3 012\n",
      "1342 3 102\n",
      "3142 4 1021\n",
      "1432 3 010\n",
      "4132 3 021\n",
      "3412 3 202\n",
      "4312 2 02\n",
      "2341 2 10\n",
      "3241 3 210\n",
      "2431 3 120\n",
      "4231 4 0121\n",
      "3421 2 20\n",
      "4321 1 0\n"
     ]
    }
   ],
   "source": [
    "N = 4\n",
    "c = 3\n",
    "original = range(N,0,-1)\n",
    "start(original,c)"
   ]
  },
  {
   "cell_type": "markdown",
   "metadata": {},
   "source": [
    "**Los resultados para cuando hay cinco Pancakes son:**"
   ]
  },
  {
   "cell_type": "code",
   "execution_count": 54,
   "metadata": {},
   "outputs": [
    {
     "name": "stdout",
     "output_type": "stream",
     "text": [
      "Pn = 5\n"
     ]
    }
   ],
   "source": [
    "N = 5\n",
    "c = 0\n",
    "original = range(N,0,-1)\n",
    "start(original,c)"
   ]
  },
  {
   "cell_type": "code",
   "execution_count": 55,
   "metadata": {
    "scrolled": true
   },
   "outputs": [
    {
     "name": "stdout",
     "output_type": "stream",
     "text": [
      "Pn = 5\n",
      "13254 02120\n",
      "13524 20123\n",
      "31524 12301\n",
      "15324 02310\n",
      "51324 01232\n",
      "25314 23012\n",
      "14253 32102\n",
      "24153 10321\n",
      "25143 01021\n",
      "42513 13031\n",
      "52413 02132\n",
      "14352 01320\n",
      "41352 21032\n",
      "31542 02023\n",
      "15342 10201\n",
      "35142 12021\n",
      "53142 02312\n",
      "24351 10131\n",
      "35241 21320\n",
      "42531 20213\n"
     ]
    }
   ],
   "source": [
    "N = 5\n",
    "c = 1\n",
    "original = range(N,0,-1)\n",
    "start(original,c)"
   ]
  },
  {
   "cell_type": "code",
   "execution_count": 56,
   "metadata": {},
   "outputs": [
    {
     "name": "stdout",
     "output_type": "stream",
     "text": [
      "Pn = 5\n",
      "12345  \n",
      "21345 3\n",
      "13245 232\n",
      "31245 23\n",
      "23145 32\n",
      "32145 2\n",
      "12435 131\n",
      "21435 212\n",
      "14235 312\n",
      "41235 12\n",
      "24135 2312\n",
      "42135 123\n",
      "13425 213\n",
      "31425 2132\n",
      "14325 121\n",
      "41325 132\n",
      "34125 313\n",
      "43125 13\n",
      "23415 21\n",
      "32415 321\n",
      "24315 231\n",
      "42315 1232\n",
      "34215 31\n",
      "43215 1\n",
      "12354 030\n",
      "21354 0303\n",
      "13254 02120\n",
      "31254 1013\n",
      "23154 3101\n",
      "32154 101\n",
      "12534 0320\n",
      "21534 201\n",
      "15234 301\n",
      "51234 01\n",
      "25134 2301\n",
      "52134 013\n",
      "13524 20123\n",
      "31524 12301\n",
      "15324 02310\n",
      "51324 01232\n",
      "35124 1201\n",
      "53124 0123\n",
      "23514 2012\n",
      "32514 1301\n",
      "25314 23012\n",
      "52314 0132\n",
      "35214 3012\n",
      "53214 012\n",
      "12453 0230\n",
      "21453 102\n",
      "14253 32102\n",
      "41253 2102\n",
      "24153 10321\n",
      "42153 1031\n",
      "12543 020\n",
      "21543 0203\n",
      "15243 3031\n",
      "51243 031\n",
      "25143 01021\n",
      "52143 0313\n",
      "14523 202\n",
      "41523 3202\n",
      "15423 0310\n",
      "51423 0321\n",
      "45123 302\n",
      "54123 02\n",
      "24513 2023\n",
      "42513 13031\n",
      "25413 1202\n",
      "52413 02132\n",
      "45213 1020\n",
      "54213 023\n",
      "13452 103\n",
      "31452 1032\n",
      "14352 01320\n",
      "41352 21032\n",
      "34152 1021\n",
      "43152 2103\n",
      "13542 1303\n",
      "31542 02023\n",
      "15342 10201\n",
      "51342 0231\n",
      "35142 12021\n",
      "53142 02312\n",
      "14532 0130\n",
      "41532 2021\n",
      "15432 010\n",
      "51432 021\n",
      "45132 2010\n",
      "54132 032\n",
      "34512 203\n",
      "43512 0201\n",
      "35412 0102\n",
      "53412 0212\n",
      "45312 303\n",
      "54312 03\n",
      "23451 10\n",
      "32451 310\n",
      "24351 10131\n",
      "42351 2310\n",
      "34251 3210\n",
      "43251 210\n",
      "23541 130\n",
      "32541 0202\n",
      "25341 1320\n",
      "52341 0121\n",
      "35241 21320\n",
      "53241 0312\n",
      "24531 1230\n",
      "42531 20213\n",
      "25431 120\n",
      "52431 0213\n",
      "45231 2120\n",
      "54231 0232\n",
      "34521 20\n",
      "43521 320\n",
      "35421 230\n",
      "53421 0131\n",
      "45321 30\n",
      "54321 0\n"
     ]
    }
   ],
   "source": [
    "N = 5\n",
    "c = 2\n",
    "original = range(N,0,-1)\n",
    "start(original,c)"
   ]
  },
  {
   "cell_type": "code",
   "execution_count": 57,
   "metadata": {},
   "outputs": [
    {
     "name": "stdout",
     "output_type": "stream",
     "text": [
      "12345 0  \n",
      "21345 1 3\n",
      "13245 3 232\n",
      "31245 2 23\n",
      "23145 2 32\n",
      "32145 1 2\n",
      "12435 3 131\n",
      "21435 3 212\n",
      "14235 3 312\n",
      "41235 2 12\n",
      "24135 4 2312\n",
      "42135 3 123\n",
      "13425 3 213\n",
      "31425 4 2132\n",
      "14325 3 121\n",
      "41325 3 132\n",
      "34125 3 313\n",
      "43125 2 13\n",
      "23415 2 21\n",
      "32415 3 321\n",
      "24315 3 231\n",
      "42315 4 1232\n",
      "34215 2 31\n",
      "43215 1 1\n",
      "12354 3 030\n",
      "21354 4 0303\n",
      "13254 5 02120\n",
      "31254 4 1013\n",
      "23154 4 3101\n",
      "32154 3 101\n",
      "12534 4 0320\n",
      "21534 3 201\n",
      "15234 3 301\n",
      "51234 2 01\n",
      "25134 4 2301\n",
      "52134 3 013\n",
      "13524 5 20123\n",
      "31524 5 12301\n",
      "15324 5 02310\n",
      "51324 5 01232\n",
      "35124 4 1201\n",
      "53124 4 0123\n",
      "23514 4 2012\n",
      "32514 4 1301\n",
      "25314 5 23012\n",
      "52314 4 0132\n",
      "35214 4 3012\n",
      "53214 3 012\n",
      "12453 4 0230\n",
      "21453 3 102\n",
      "14253 5 32102\n",
      "41253 4 2102\n",
      "24153 5 10321\n",
      "42153 4 1031\n",
      "12543 3 020\n",
      "21543 4 0203\n",
      "15243 4 3031\n",
      "51243 3 031\n",
      "25143 5 01021\n",
      "52143 4 0313\n",
      "14523 3 202\n",
      "41523 4 3202\n",
      "15423 4 0310\n",
      "51423 4 0321\n",
      "45123 3 302\n",
      "54123 2 02\n",
      "24513 4 2023\n",
      "42513 5 13031\n",
      "25413 4 1202\n",
      "52413 5 02132\n",
      "45213 4 1020\n",
      "54213 3 023\n",
      "13452 3 103\n",
      "31452 4 1032\n",
      "14352 5 01320\n",
      "41352 5 21032\n",
      "34152 4 1021\n",
      "43152 4 2103\n",
      "13542 4 1303\n",
      "31542 5 02023\n",
      "15342 5 10201\n",
      "51342 4 0231\n",
      "35142 5 12021\n",
      "53142 5 02312\n",
      "14532 4 0130\n",
      "41532 4 2021\n",
      "15432 3 010\n",
      "51432 3 021\n",
      "45132 4 2010\n",
      "54132 3 032\n",
      "34512 3 203\n",
      "43512 4 0201\n",
      "35412 4 0102\n",
      "53412 4 0212\n",
      "45312 3 303\n",
      "54312 2 03\n",
      "23451 2 10\n",
      "32451 3 310\n",
      "24351 5 10131\n",
      "42351 4 2310\n",
      "34251 4 3210\n",
      "43251 3 210\n",
      "23541 3 130\n",
      "32541 4 0202\n",
      "25341 4 1320\n",
      "52341 4 0121\n",
      "35241 5 21320\n",
      "53241 4 0312\n",
      "24531 4 1230\n",
      "42531 5 20213\n",
      "25431 3 120\n",
      "52431 4 0213\n",
      "45231 4 2120\n",
      "54231 4 0232\n",
      "34521 2 20\n",
      "43521 3 320\n",
      "35421 3 230\n",
      "53421 4 0131\n",
      "45321 2 30\n",
      "54321 1 0\n"
     ]
    }
   ],
   "source": [
    "N = 5\n",
    "c = 3\n",
    "original = range(N,0,-1)\n",
    "start(original,c)"
   ]
  }
 ],
 "metadata": {
  "kernelspec": {
   "display_name": "Python 2",
   "language": "python",
   "name": "python2"
  },
  "language_info": {
   "codemirror_mode": {
    "name": "ipython",
    "version": 2
   },
   "file_extension": ".py",
   "mimetype": "text/x-python",
   "name": "python",
   "nbconvert_exporter": "python",
   "pygments_lexer": "ipython2",
   "version": "2.7.14"
  }
 },
 "nbformat": 4,
 "nbformat_minor": 2
}
